{
    "cells": [
        {
            "cell_type": "markdown",
            "metadata": {},
            "source": "# IBM Capstone Project: The Battle of the Neighborhoods Week 1"
        },
        {
            "cell_type": "markdown",
            "metadata": {},
            "source": "## Which Boston's neghborhood is ideal for openning a Gastrobar?"
        },
        {
            "cell_type": "markdown",
            "metadata": {},
            "source": "### Introduction"
        },
        {
            "cell_type": "markdown",
            "metadata": {},
            "source": "In this project, I'm going to determine which Boston's neighborhood is a good place for opening a Gastrobar.\n<ul>\n    <li>I'll scrap the data about Boston's neighborhoods from wikipedia https://en.wikipedia.org/wiki/Neighborhoods_in_Boston</li>\n    <li>I'll convert neighborhoods data into their equivalent latitude and longitude values.</li>\n    <li>I'll use the Foursquare API to explore Boston's neighborhoods and will get venues.</li>\n    <li>I'll use the Foursquare API to get venue ratings and likes.</li>\n    <li>I'll use the Folium library to visualize the neighborhoods, venues , clusters</li>\n    <li>I'll use the k-means clustering and Agglomerative algorithms to complete clustering task</li>\n</ul>"
        },
        {
            "cell_type": "markdown",
            "metadata": {},
            "source": "### Problem"
        },
        {
            "cell_type": "markdown",
            "metadata": {},
            "source": "Finding the best place to open a new gastrobar in Boston by answering the following questions:\n<ul>\n    <li>What areas have with the most restaurants?</li>\n <li>What areas have high rating restaurants?</li>\n</ul>"
        },
        {
            "cell_type": "code",
            "execution_count": null,
            "metadata": {},
            "outputs": [],
            "source": ""
        }
    ],
    "metadata": {
        "kernelspec": {
            "display_name": "Python 3.6",
            "language": "python",
            "name": "python3"
        },
        "language_info": {
            "codemirror_mode": {
                "name": "ipython",
                "version": 3
            },
            "file_extension": ".py",
            "mimetype": "text/x-python",
            "name": "python",
            "nbconvert_exporter": "python",
            "pygments_lexer": "ipython3",
            "version": "3.6.9"
        }
    },
    "nbformat": 4,
    "nbformat_minor": 1
}