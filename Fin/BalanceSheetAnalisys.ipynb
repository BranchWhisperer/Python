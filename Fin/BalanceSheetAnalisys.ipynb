{
 "cells": [
  {
   "cell_type": "markdown",
   "metadata": {},
   "source": [
    "## This Balance Sheet Trend Analysis will display each balance sheet item as a percentage of the total assets. It is a very useful tool to compare balance sheet item changes and analyse trends over time."
   ]
  },
  {
   "cell_type": "code",
   "execution_count": 34,
   "metadata": {},
   "outputs": [],
   "source": [
    "import pandas as pd\n",
    "import requests\n",
    "import json\n",
    "bs = requests.get(f'https://financialmodelingprep.com/api/v3/financials/balance-sheet-statement/OGI?period=quarter&apikey=0bb02e281600e724de6425c8c5019526')\n",
    "bs = bs.json()"
   ]
  },
  {
   "cell_type": "code",
   "execution_count": 35,
   "metadata": {},
   "outputs": [
    {
     "ename": "KeyError",
     "evalue": "'financials'",
     "output_type": "error",
     "traceback": [
      "\u001b[0;31m---------------------------------------------------------------------------\u001b[0m",
      "\u001b[0;31mKeyError\u001b[0m                                  Traceback (most recent call last)",
      "\u001b[0;32m<ipython-input-35-91e7782fd0f0>\u001b[0m in \u001b[0;36m<module>\u001b[0;34m\u001b[0m\n\u001b[0;32m----> 1\u001b[0;31m \u001b[0mbs\u001b[0m \u001b[0;34m=\u001b[0m \u001b[0mbs\u001b[0m\u001b[0;34m[\u001b[0m\u001b[0;34m'financials'\u001b[0m\u001b[0;34m]\u001b[0m\u001b[0;34m\u001b[0m\u001b[0;34m\u001b[0m\u001b[0m\n\u001b[0m\u001b[1;32m      2\u001b[0m \u001b[0mbs\u001b[0m \u001b[0;34m=\u001b[0m \u001b[0mpd\u001b[0m\u001b[0;34m.\u001b[0m\u001b[0mDataFrame\u001b[0m\u001b[0;34m.\u001b[0m\u001b[0mfrom_dict\u001b[0m\u001b[0;34m(\u001b[0m\u001b[0mbs\u001b[0m\u001b[0;34m)\u001b[0m\u001b[0;34m\u001b[0m\u001b[0;34m\u001b[0m\u001b[0m\n\u001b[1;32m      3\u001b[0m \u001b[0mbs\u001b[0m \u001b[0;34m=\u001b[0m \u001b[0mbs\u001b[0m\u001b[0;34m.\u001b[0m\u001b[0mT\u001b[0m\u001b[0;34m\u001b[0m\u001b[0;34m\u001b[0m\u001b[0m\n\u001b[1;32m      4\u001b[0m \u001b[0mbs\u001b[0m\u001b[0;34m.\u001b[0m\u001b[0mcolumns\u001b[0m \u001b[0;34m=\u001b[0m \u001b[0mbs\u001b[0m\u001b[0;34m.\u001b[0m\u001b[0miloc\u001b[0m\u001b[0;34m[\u001b[0m\u001b[0;36m0\u001b[0m\u001b[0;34m]\u001b[0m\u001b[0;34m\u001b[0m\u001b[0;34m\u001b[0m\u001b[0m\n",
      "\u001b[0;31mKeyError\u001b[0m: 'financials'"
     ]
    }
   ],
   "source": [
    "bs = bs['financials']\n",
    "bs = pd.DataFrame.from_dict(bs)\n",
    "bs = bs.T\n",
    "bs.columns = bs.iloc[0]"
   ]
  },
  {
   "cell_type": "code",
   "execution_count": 28,
   "metadata": {},
   "outputs": [],
   "source": [
    "cols = bs.columns\n",
    "bs = bs.iloc[1:,]\n",
    "bs = bs.iloc[:12,:4]\n",
    "cols = bs.columns\n",
    "bs[cols] = bs[cols].apply(pd.to_numeric, errors='coerce')"
   ]
  },
  {
   "cell_type": "code",
   "execution_count": 29,
   "metadata": {},
   "outputs": [],
   "source": [
    "assetsQ1 = bs.iloc[11,0]\n",
    "assetsQ2 = bs.iloc[11,1]\n",
    "assetsQ3 = bs.iloc[11,2]\n",
    "assetsQ4 = bs.iloc[11,3]\n",
    "allassets = [assetsQ1,assetsQ2,assetsQ3,assetsQ4]\n",
    "bs[cols] = (bs[cols] / allassets)*100\n",
    "pd.options.display.float_format = '{:.2f}%'.format"
   ]
  },
  {
   "cell_type": "code",
   "execution_count": 31,
   "metadata": {},
   "outputs": [
    {
     "data": {
      "text/html": [
       "<div>\n",
       "<style scoped>\n",
       "    .dataframe tbody tr th:only-of-type {\n",
       "        vertical-align: middle;\n",
       "    }\n",
       "\n",
       "    .dataframe tbody tr th {\n",
       "        vertical-align: top;\n",
       "    }\n",
       "\n",
       "    .dataframe thead th {\n",
       "        text-align: right;\n",
       "    }\n",
       "</style>\n",
       "<table border=\"1\" class=\"dataframe\">\n",
       "  <thead>\n",
       "    <tr style=\"text-align: right;\">\n",
       "      <th>date</th>\n",
       "      <th>2019-03-31</th>\n",
       "      <th>2018-12-31</th>\n",
       "      <th>2018-09-30</th>\n",
       "      <th>2018-06-30</th>\n",
       "    </tr>\n",
       "  </thead>\n",
       "  <tbody>\n",
       "    <tr>\n",
       "      <th>Cash and cash equivalents</th>\n",
       "      <td>7.53%</td>\n",
       "      <td>nan%</td>\n",
       "      <td>nan%</td>\n",
       "      <td>nan%</td>\n",
       "    </tr>\n",
       "    <tr>\n",
       "      <th>Short-term investments</th>\n",
       "      <td>nan%</td>\n",
       "      <td>nan%</td>\n",
       "      <td>nan%</td>\n",
       "      <td>nan%</td>\n",
       "    </tr>\n",
       "    <tr>\n",
       "      <th>Cash and short-term investments</th>\n",
       "      <td>29.32%</td>\n",
       "      <td>25.77%</td>\n",
       "      <td>22.69%</td>\n",
       "      <td>10.13%</td>\n",
       "    </tr>\n",
       "    <tr>\n",
       "      <th>Receivables</th>\n",
       "      <td>31.47%</td>\n",
       "      <td>32.47%</td>\n",
       "      <td>33.25%</td>\n",
       "      <td>32.84%</td>\n",
       "    </tr>\n",
       "    <tr>\n",
       "      <th>Inventories</th>\n",
       "      <td>0.00%</td>\n",
       "      <td>0.00%</td>\n",
       "      <td>0.00%</td>\n",
       "      <td>0.01%</td>\n",
       "    </tr>\n",
       "    <tr>\n",
       "      <th>Total current assets</th>\n",
       "      <td>60.79%</td>\n",
       "      <td>58.23%</td>\n",
       "      <td>55.94%</td>\n",
       "      <td>45.85%</td>\n",
       "    </tr>\n",
       "    <tr>\n",
       "      <th>Property, Plant &amp; Equipment Net</th>\n",
       "      <td>4.62%</td>\n",
       "      <td>5.04%</td>\n",
       "      <td>5.02%</td>\n",
       "      <td>5.78%</td>\n",
       "    </tr>\n",
       "    <tr>\n",
       "      <th>Goodwill and Intangible Assets</th>\n",
       "      <td>nan%</td>\n",
       "      <td>nan%</td>\n",
       "      <td>nan%</td>\n",
       "      <td>nan%</td>\n",
       "    </tr>\n",
       "    <tr>\n",
       "      <th>Long-term investments</th>\n",
       "      <td>nan%</td>\n",
       "      <td>nan%</td>\n",
       "      <td>nan%</td>\n",
       "      <td>nan%</td>\n",
       "    </tr>\n",
       "    <tr>\n",
       "      <th>Tax assets</th>\n",
       "      <td>nan%</td>\n",
       "      <td>nan%</td>\n",
       "      <td>nan%</td>\n",
       "      <td>nan%</td>\n",
       "    </tr>\n",
       "    <tr>\n",
       "      <th>Total non-current assets</th>\n",
       "      <td>nan%</td>\n",
       "      <td>nan%</td>\n",
       "      <td>nan%</td>\n",
       "      <td>nan%</td>\n",
       "    </tr>\n",
       "    <tr>\n",
       "      <th>Total assets</th>\n",
       "      <td>100.00%</td>\n",
       "      <td>100.00%</td>\n",
       "      <td>100.00%</td>\n",
       "      <td>100.00%</td>\n",
       "    </tr>\n",
       "  </tbody>\n",
       "</table>\n",
       "</div>"
      ],
      "text/plain": [
       "date                             2019-03-31  2018-12-31  2018-09-30  \\\n",
       "Cash and cash equivalents             7.53%        nan%        nan%   \n",
       "Short-term investments                 nan%        nan%        nan%   \n",
       "Cash and short-term investments      29.32%      25.77%      22.69%   \n",
       "Receivables                          31.47%      32.47%      33.25%   \n",
       "Inventories                           0.00%       0.00%       0.00%   \n",
       "Total current assets                 60.79%      58.23%      55.94%   \n",
       "Property, Plant & Equipment Net       4.62%       5.04%       5.02%   \n",
       "Goodwill and Intangible Assets         nan%        nan%        nan%   \n",
       "Long-term investments                  nan%        nan%        nan%   \n",
       "Tax assets                             nan%        nan%        nan%   \n",
       "Total non-current assets               nan%        nan%        nan%   \n",
       "Total assets                        100.00%     100.00%     100.00%   \n",
       "\n",
       "date                             2018-06-30  \n",
       "Cash and cash equivalents              nan%  \n",
       "Short-term investments                 nan%  \n",
       "Cash and short-term investments      10.13%  \n",
       "Receivables                          32.84%  \n",
       "Inventories                           0.01%  \n",
       "Total current assets                 45.85%  \n",
       "Property, Plant & Equipment Net       5.78%  \n",
       "Goodwill and Intangible Assets         nan%  \n",
       "Long-term investments                  nan%  \n",
       "Tax assets                             nan%  \n",
       "Total non-current assets               nan%  \n",
       "Total assets                        100.00%  "
      ]
     },
     "execution_count": 31,
     "metadata": {},
     "output_type": "execute_result"
    }
   ],
   "source": [
    "bs"
   ]
  },
  {
   "cell_type": "code",
   "execution_count": null,
   "metadata": {},
   "outputs": [],
   "source": []
  }
 ],
 "metadata": {
  "kernelspec": {
   "display_name": "Python 3",
   "language": "python",
   "name": "python3"
  },
  "language_info": {
   "codemirror_mode": {
    "name": "ipython",
    "version": 3
   },
   "file_extension": ".py",
   "mimetype": "text/x-python",
   "name": "python",
   "nbconvert_exporter": "python",
   "pygments_lexer": "ipython3",
   "version": "3.7.6"
  }
 },
 "nbformat": 4,
 "nbformat_minor": 4
}
